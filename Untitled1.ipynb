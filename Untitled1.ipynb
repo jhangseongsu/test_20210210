{
  "nbformat": 4,
  "nbformat_minor": 0,
  "metadata": {
    "colab": {
      "name": "Untitled1.ipynb",
      "provenance": [],
      "authorship_tag": "ABX9TyP0DATasS3E0ybT2PHNZbs0",
      "include_colab_link": true
    },
    "kernelspec": {
      "name": "python3",
      "display_name": "Python 3"
    }
  },
  "cells": [
    {
      "cell_type": "markdown",
      "metadata": {
        "id": "view-in-github",
        "colab_type": "text"
      },
      "source": [
        "<a href=\"https://colab.research.google.com/github/jhangseongsu/test_20210210/blob/main/Untitled1.ipynb\" target=\"_parent\"><img src=\"https://colab.research.google.com/assets/colab-badge.svg\" alt=\"Open In Colab\"/></a>"
      ]
    },
    {
      "cell_type": "code",
      "metadata": {
        "id": "Vcd6jliNWmp4",
        "colab": {
          "base_uri": "https://localhost:8080/"
        },
        "outputId": "2a2529ee-a101-4a5f-bd83-fa4321b3e00b"
      },
      "source": [
        "#!git clone https://github.com/jhangseongsu/test_20210210.git\r\n",
        "# !ls /test_20210210\r\n",
        "# !cd test_20210210/\r\n",
        "# !git diff\r\n",
        "# !ls\r\n",
        "\r\n"
      ],
      "execution_count": 11,
      "outputs": [
        {
          "output_type": "stream",
          "text": [
            "fatal: destination path 'test_20210210' already exists and is not an empty directory.\n"
          ],
          "name": "stdout"
        }
      ]
    }
  ]
}